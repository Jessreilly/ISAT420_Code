{
 "cells": [
  {
   "cell_type": "markdown",
   "metadata": {},
   "source": [
    "# Fitting a statistical wind model "
   ]
  },
  {
   "cell_type": "markdown",
   "metadata": {},
   "source": [
    "## Background\n",
    "\n",
    "During the last lecture, we discussed the impotance and challenges when fitting statistical models using extreme temperatures and river runoff extremes as case studies."
   ]
  },
  {
   "cell_type": "markdown",
   "metadata": {},
   "source": [
    "Another area, where statistical models are important is wind development. \n",
    "\n",
    "To assess a locations wind energy potential, we need to be able to model the overall distribution of wind speeds. \n",
    "\n",
    "Getting the wind speed distribution right, matters because wind power potential ($P$) is proportional to the third power of the wind speed ($v$). \n",
    "\n",
    "$P = 1/2 \\rho A v^3$, \n",
    "\n",
    "with $\\rho$ as air density, $A$ as rotor size of a wind turbine. \n",
    "\n",
    "The map below created by the [National Renewable Energy Laboratory](https://www.nrel.gov/) shows the estimated wind energy potential in the U.S."
   ]
  },
  {
   "cell_type": "markdown",
   "metadata": {},
   "source": [
    "![](https://www.nrel.gov/gis/assets/images/wtk-140m-2017-01.jpg)"
   ]
  },
  {
   "cell_type": "markdown",
   "metadata": {},
   "source": [
    "## Learning Goals\n",
    "\n",
    "- Practice fitting a statistical model the wind speed distribution\n",
    "- Modularize code as functions for easier reuse\n",
    "- Practice plotting and calculating statistics using `pandas` and `numpy`."
   ]
  },
  {
   "cell_type": "code",
   "execution_count": 12,
   "metadata": {},
   "outputs": [],
   "source": [
    "import pandas as pd\n",
    "import matplotlib.pyplot as plt\n",
    "import numpy as np\n",
    "\n",
    "plt.style.use('ggplot')"
   ]
  },
  {
   "cell_type": "markdown",
   "metadata": {},
   "source": [
    "## Task 1: Load and clean the wind data\n",
    "\n",
    "The `data` folder contains two _*.csv_ files. One is from Phoenix uses in our last analysis (Station Code: USW00023183), the other one is taken from Charlottesville Airport. You can use either file. "
   ]
  },
  {
   "cell_type": "markdown",
   "metadata": {},
   "source": [
    "### Subtasks 1.1: Load the wind data into a dataframe\n",
    "Subtasks\n",
    "\n",
    "- Load the NOAA station data into a dataframe\n",
    "- Save the the average wind speed `AWND` to a new dataframe.\n",
    "  \n",
    "  _Hint: `['<varname>']` will produce a pandas Series, while `[['<varname>>']]` will produce a pandas DataFrame_  \n",
    "- Inspect the contents of the dataframe"
   ]
  },
  {
   "cell_type": "code",
   "execution_count": 13,
   "metadata": {},
   "outputs": [
    {
     "name": "stderr",
     "output_type": "stream",
     "text": [
      "C:\\Users\\jessr\\AppData\\Local\\Temp\\ipykernel_29332\\217814514.py:1: DtypeWarning: Columns (16,22,26,28,32,34,38,40,44,46) have mixed types. Specify dtype option on import or set low_memory=False.\n",
      "  weather_data = pd.read_csv('../data/NOAA_GHCN_USW00023183.csv',\n"
     ]
    },
    {
     "data": {
      "text/html": [
       "<div>\n",
       "<style scoped>\n",
       "    .dataframe tbody tr th:only-of-type {\n",
       "        vertical-align: middle;\n",
       "    }\n",
       "\n",
       "    .dataframe tbody tr th {\n",
       "        vertical-align: top;\n",
       "    }\n",
       "\n",
       "    .dataframe thead th {\n",
       "        text-align: right;\n",
       "    }\n",
       "</style>\n",
       "<table border=\"1\" class=\"dataframe\">\n",
       "  <thead>\n",
       "    <tr style=\"text-align: right;\">\n",
       "      <th></th>\n",
       "      <th>AWND</th>\n",
       "    </tr>\n",
       "    <tr>\n",
       "      <th>DATE</th>\n",
       "      <th></th>\n",
       "    </tr>\n",
       "  </thead>\n",
       "  <tbody>\n",
       "    <tr>\n",
       "      <th>1934-01-01</th>\n",
       "      <td>NaN</td>\n",
       "    </tr>\n",
       "    <tr>\n",
       "      <th>1934-01-02</th>\n",
       "      <td>NaN</td>\n",
       "    </tr>\n",
       "    <tr>\n",
       "      <th>1934-01-03</th>\n",
       "      <td>NaN</td>\n",
       "    </tr>\n",
       "    <tr>\n",
       "      <th>1934-01-04</th>\n",
       "      <td>NaN</td>\n",
       "    </tr>\n",
       "    <tr>\n",
       "      <th>1934-01-05</th>\n",
       "      <td>NaN</td>\n",
       "    </tr>\n",
       "  </tbody>\n",
       "</table>\n",
       "</div>"
      ],
      "text/plain": [
       "            AWND\n",
       "DATE            \n",
       "1934-01-01   NaN\n",
       "1934-01-02   NaN\n",
       "1934-01-03   NaN\n",
       "1934-01-04   NaN\n",
       "1934-01-05   NaN"
      ]
     },
     "execution_count": 13,
     "metadata": {},
     "output_type": "execute_result"
    }
   ],
   "source": [
    " weather_data = pd.read_csv('../data/NOAA_GHCN_USW00023183.csv',\n",
    "                             parse_dates=['DATE'],\n",
    "                             index_col = ['DATE'])\n",
    "weather_data.head()\n",
    "\n",
    "wind_speed = weather_data[['AWND']]\n",
    "wind_speed.head()"
   ]
  },
  {
   "cell_type": "markdown",
   "metadata": {},
   "source": [
    "### Subtasks 1.2: Remove missing values \n",
    "\n",
    "You can use the `.dropna()` method to remove rows with _nan_-values"
   ]
  },
  {
   "cell_type": "code",
   "execution_count": 14,
   "metadata": {},
   "outputs": [],
   "source": [
    "wind_speed = wind_speed.dropna()"
   ]
  },
  {
   "cell_type": "markdown",
   "metadata": {},
   "source": [
    "## Task 2: Explore the data"
   ]
  },
  {
   "cell_type": "markdown",
   "metadata": {},
   "source": [
    "### Subtask 2.1: Look at basic wind statistics\n",
    "\n",
    "_Hint: `.describe()`"
   ]
  },
  {
   "cell_type": "code",
   "execution_count": 15,
   "metadata": {},
   "outputs": [
    {
     "data": {
      "text/html": [
       "<div>\n",
       "<style scoped>\n",
       "    .dataframe tbody tr th:only-of-type {\n",
       "        vertical-align: middle;\n",
       "    }\n",
       "\n",
       "    .dataframe tbody tr th {\n",
       "        vertical-align: top;\n",
       "    }\n",
       "\n",
       "    .dataframe thead th {\n",
       "        text-align: right;\n",
       "    }\n",
       "</style>\n",
       "<table border=\"1\" class=\"dataframe\">\n",
       "  <thead>\n",
       "    <tr style=\"text-align: right;\">\n",
       "      <th></th>\n",
       "      <th>AWND</th>\n",
       "    </tr>\n",
       "  </thead>\n",
       "  <tbody>\n",
       "    <tr>\n",
       "      <th>count</th>\n",
       "      <td>14692.000000</td>\n",
       "    </tr>\n",
       "    <tr>\n",
       "      <th>mean</th>\n",
       "      <td>6.154301</td>\n",
       "    </tr>\n",
       "    <tr>\n",
       "      <th>std</th>\n",
       "      <td>2.221693</td>\n",
       "    </tr>\n",
       "    <tr>\n",
       "      <th>min</th>\n",
       "      <td>0.450000</td>\n",
       "    </tr>\n",
       "    <tr>\n",
       "      <th>25%</th>\n",
       "      <td>4.700000</td>\n",
       "    </tr>\n",
       "    <tr>\n",
       "      <th>50%</th>\n",
       "      <td>5.820000</td>\n",
       "    </tr>\n",
       "    <tr>\n",
       "      <th>75%</th>\n",
       "      <td>7.610000</td>\n",
       "    </tr>\n",
       "    <tr>\n",
       "      <th>max</th>\n",
       "      <td>20.130000</td>\n",
       "    </tr>\n",
       "  </tbody>\n",
       "</table>\n",
       "</div>"
      ],
      "text/plain": [
       "               AWND\n",
       "count  14692.000000\n",
       "mean       6.154301\n",
       "std        2.221693\n",
       "min        0.450000\n",
       "25%        4.700000\n",
       "50%        5.820000\n",
       "75%        7.610000\n",
       "max       20.130000"
      ]
     },
     "execution_count": 15,
     "metadata": {},
     "output_type": "execute_result"
    }
   ],
   "source": [
    " wind_speed.describe()"
   ]
  },
  {
   "cell_type": "markdown",
   "metadata": {},
   "source": [
    "### Subtask 2.2: Plot the wind data as a histogram\n",
    "\n",
    "Use a sufficent number of bins `bins=` so that you can see the underlying distribution. \n",
    "\n",
    "Set `density = True` to get the probability distribution rather than raw counts."
   ]
  },
  {
   "cell_type": "code",
   "execution_count": 16,
   "metadata": {},
   "outputs": [
    {
     "data": {
      "text/plain": [
       "<Axes: ylabel='Frequency'>"
      ]
     },
     "execution_count": 16,
     "metadata": {},
     "output_type": "execute_result"
    },
    {
     "data": {
      "image/png": "[encoded data removed]",
      "text/plain": [
       "<Figure size 640x480 with 1 Axes>"
      ]
     },
     "metadata": {},
     "output_type": "display_data"
    }
   ],
   "source": [
    "wind_speed.plot(kind='hist', bins = 30, density = True)"
   ]
  },
  {
   "cell_type": "markdown",
   "metadata": {},
   "source": [
    "## Taks 3: Fit a Weibull distribution to the wind data "
   ]
  },
  {
   "cell_type": "markdown",
   "metadata": {},
   "source": [
    "We want to fit a statistical model to the data. \n",
    "\n",
    "To do so, we need to: \n",
    "\n",
    "1. Decide on an appropriate statistical model\n",
    "2. Estimate the model's parameter\n",
    "3. Validate the model against our observations to ensure that it is appropriate"
   ]
  },
  {
   "cell_type": "markdown",
   "metadata": {},
   "source": [
    "### Task 3.1: Decide on a model "
   ]
  },
  {
   "cell_type": "markdown",
   "metadata": {},
   "source": [
    "The Weibull distribution is one of [many different assumed wind speed distributions](https://www.frontiersin.org/articles/10.3389/fenrg.2021.769920/full) used in wind energy assessment. \n",
    "\n",
    "The Weibull distribution is a two parametric function expressed mathematically as (Perez et al, [2007](https://agupubs.onlinelibrary.wiley.com/doi/full/10.1029/2006JD008278)):\n",
    "\n",
    "![](https://agupubs.onlinelibrary.wiley.com/cms/asset/5632b77b-0544-4101-ad3b-e5dd9610865c/jgrd13704-math-0001.gif)\n",
    "\n",
    "where $v$ is the wind speed, $c$ is the scale factor, and $k$ is the dimensionless shape parameter.\n",
    "\n",
    "**Note:** the exponent $k$ is applied to the fraction $(v/c)$ before the negative sign $(-)$ is applied!"
   ]
  },
  {
   "cell_type": "markdown",
   "metadata": {},
   "source": [
    "Here are examples of the Weibull probability function for different parameter choices:\n",
    "\n",
    "![](https://upload.wikimedia.org/wikipedia/commons/thumb/5/58/Weibull_PDF.svg/488px-Weibull_PDF.svg.png)\n",
    "\n",
    "_Source: [Wikipedia - Weibull Distribution](https://en.wikipedia.org/wiki/Weibull_distribution)_"
   ]
  },
  {
   "cell_type": "markdown",
   "metadata": {},
   "source": [
    "### Aside: Functions in Python"
   ]
  },
  {
   "cell_type": "markdown",
   "metadata": {},
   "source": [
    "In python, we can define [functions](https://www.w3schools.com/python/python_functions.asp) like the ones below that takes two variables as arguments and will return their sum. "
   ]
  },
  {
   "cell_type": "code",
   "execution_count": 22,
   "metadata": {},
   "outputs": [],
   "source": [
    "def aPowerB(a,b):\n",
    "    result = a**b\n",
    "    return result\n",
    "\n",
    "def exponentialExample(a,b):\n",
    "    result = np.exp(a+b)\n",
    "    return result"
   ]
  },
  {
   "cell_type": "markdown",
   "metadata": {},
   "source": [
    "After the function is defined, we can use it like this:"
   ]
  },
  {
   "cell_type": "code",
   "execution_count": 23,
   "metadata": {},
   "outputs": [
    {
     "name": "stdout",
     "output_type": "stream",
     "text": [
      "a^b = 8\n",
      "e^(a=b)=  148.4131591025766\n"
     ]
    }
   ],
   "source": [
    "x1=2\n",
    "x2=3\n",
    "print('a^b =', aPowerB(x1,x2))\n",
    "print('e^(a=b)= ', exponentialExample(x1,x2))"
   ]
  },
  {
   "cell_type": "markdown",
   "metadata": {},
   "source": [
    "### Task 3.1.1: Code up the Weibull function"
   ]
  },
  {
   "cell_type": "markdown",
   "metadata": {},
   "source": [
    "Functions help us modularize our code. We can reuse them over and over without having to retype the operations. \n",
    "\n",
    "Let's now code up the Weibull PDF as a python function. You can use the code stub below.  "
   ]
  },
  {
   "cell_type": "code",
   "execution_count": 24,
   "metadata": {},
   "outputs": [],
   "source": [
    "def weibullPDF(x,k,c):\n",
    "\n",
    "    f =  ((k/c)*((x/c)**(k-1))) * np.exp(-((x/c)**k)) # Enter your code on this line # \n",
    "\n",
    "    return f"
   ]
  },
  {
   "cell_type": "markdown",
   "metadata": {},
   "source": [
    "### Testing the Weibull function"
   ]
  },
  {
   "cell_type": "markdown",
   "metadata": {},
   "source": [
    "Let's try to reproduce the figure above using our newly coded function.\n",
    "\n",
    "If you did it correctly, the figures should look similar. If not check your code... "
   ]
  },
  {
   "cell_type": "code",
   "execution_count": 25,
   "metadata": {},
   "outputs": [
    {
     "name": "stderr",
     "output_type": "stream",
     "text": [
      "C:\\Users\\jessr\\AppData\\Local\\Temp\\ipykernel_29332\\2283361506.py:3: RuntimeWarning: divide by zero encountered in power\n",
      "  f =  ((k/c)*((x/c)**(k-1))) * np.exp(-((x/c)**k)) # Enter your code on this line #\n"
     ]
    },
    {
     "data": {
      "image/png": "[encoded data removed]",
      "text/plain": [
       "<Figure size 640x480 with 1 Axes>"
      ]
     },
     "metadata": {},
     "output_type": "display_data"
    }
   ],
   "source": [
    "fig = plt.figure() \n",
    "\n",
    "klist = [0.5, 1, 1.5, 5]\n",
    "x = np.linspace(0,2.5,100) # This creates 100 x values between 0 and 2.5\n",
    "for k in klist: \n",
    "    pdf = weibullPDF(x,k,1)\n",
    "    plt.plot(x,pdf, label = k)\n",
    "    plt.legend()"
   ]
  },
  {
   "cell_type": "markdown",
   "metadata": {},
   "source": [
    "### Task 3.2: Model Parameter Estimation"
   ]
  },
  {
   "cell_type": "markdown",
   "metadata": {},
   "source": [
    "Next, we need to find the parameters that provide the best fit of the Weibull distribution to our wind data.\n",
    "\n",
    "One way of doing so, is to use an optimization algorithm that compares the observed distribution to the theoretical distrubtion. \n",
    "\n",
    "Such algorithms seek to minimize a `penalty function`. \n",
    "\n",
    "**The smaller the penalty value, the better the fit!**\n",
    "\n"
   ]
  },
  {
   "cell_type": "markdown",
   "metadata": {},
   "source": [
    "### 3.2.1 Decide on success criterion\n",
    "\n",
    "A commonly used penality function is the Sum of Squares.  \n",
    "\n",
    "$SoS = \\Sigma_i[(y_i - y_{est,i})^2]$\n",
    "\n",
    "Let's code it up below: \n",
    "\n",
    "_Hint: You can use `np.sum()`._ \n",
    "\n",
    "_Running the cell will show you, whether you did it right_"
   ]
  },
  {
   "cell_type": "code",
   "execution_count": 31,
   "metadata": {},
   "outputs": [
    {
     "name": "stdout",
     "output_type": "stream",
     "text": [
      "Correct SoS =  4 Your SoS:  4\n"
     ]
    }
   ],
   "source": [
    "def penaltyFunction(y,y_est):\n",
    "    penalty = np.sum((y-y_est)**2)   # Code up the sum of squares here\n",
    "    return penalty\n",
    "\n",
    "#Don't use bracket symbols \"[]\" in the formula. It doesn't work. Parentheses only!\n",
    "\n",
    "# don't change the lines below\n",
    "y1 = np.array([1,1,3])\n",
    "y2 = np.array([1,1,1])\n",
    "SoS = penaltyFunction(y1,y2)\n",
    "print('Correct SoS = ', 4, 'Your SoS: ', SoS)"
   ]
  },
  {
   "cell_type": "markdown",
   "metadata": {},
   "source": [
    "### Task 3.2.2 Getting observed wind speed probabilities"
   ]
  },
  {
   "cell_type": "markdown",
   "metadata": {},
   "source": [
    "We can use the `np.histogram()` function (which is actually the function used by the pandas histogram, to calculate the observed wind speed probabilities. \n",
    "\n",
    "To do so, use the same numer of bins in the original plot "
   ]
  },
  {
   "cell_type": "code",
   "execution_count": 37,
   "metadata": {},
   "outputs": [],
   "source": [
    "# The below code if done correct, will save the probabilities to the probability variable, and also return the edges for each bin\n",
    "observedPDF, binEdges= np.histogram(wind_speed['AWND'],bins=30, density = True)\n",
    "\n",
    "# The wind speeds are the center of each bin, calculated as (don't change this)\n",
    "windSpeedClass=(binEdges[:-1]+binEdges[1:])/2"
   ]
  },
  {
   "cell_type": "markdown",
   "metadata": {},
   "source": [
    "### Task 3.2.3: Putting it all together"
   ]
  },
  {
   "cell_type": "markdown",
   "metadata": {},
   "source": [
    "We can now put everything together to estimate our parameters. \n",
    "\n",
    "The code below uses two loops to loop over different values for `k` and `c`. \n",
    "\n",
    "Then the code should do the following:\n",
    "\n",
    "1. Calculate the Weibull PDF for the value of `k` and `c` at the wind speed classes from the histogram.\n",
    "2. Calculate the penalty function between the Weibull PDF and the Observed PDF.\n",
    "3. Compare the Penalty Function to the current minimum value of the Penalty function\n",
    "4. If the current Penalty Function is smaller than the current minimum. Update the optimal parameters for\n",
    "   - k\n",
    "   - c\n",
    "   - minimum Penalty function."
   ]
  },
  {
   "cell_type": "code",
   "execution_count": 38,
   "metadata": {},
   "outputs": [
    {
     "name": "stdout",
     "output_type": "stream",
     "text": [
      "[ 0.          0.1010101   0.2020202   0.3030303   0.4040404   0.50505051\n",
      "  0.60606061  0.70707071  0.80808081  0.90909091  1.01010101  1.11111111\n",
      "  1.21212121  1.31313131  1.41414141  1.51515152  1.61616162  1.71717172\n",
      "  1.81818182  1.91919192  2.02020202  2.12121212  2.22222222  2.32323232\n",
      "  2.42424242  2.52525253  2.62626263  2.72727273  2.82828283  2.92929293\n",
      "  3.03030303  3.13131313  3.23232323  3.33333333  3.43434343  3.53535354\n",
      "  3.63636364  3.73737374  3.83838384  3.93939394  4.04040404  4.14141414\n",
      "  4.24242424  4.34343434  4.44444444  4.54545455  4.64646465  4.74747475\n",
      "  4.84848485  4.94949495  5.05050505  5.15151515  5.25252525  5.35353535\n",
      "  5.45454545  5.55555556  5.65656566  5.75757576  5.85858586  5.95959596\n",
      "  6.06060606  6.16161616  6.26262626  6.36363636  6.46464646  6.56565657\n",
      "  6.66666667  6.76767677  6.86868687  6.96969697  7.07070707  7.17171717\n",
      "  7.27272727  7.37373737  7.47474747  7.57575758  7.67676768  7.77777778\n",
      "  7.87878788  7.97979798  8.08080808  8.18181818  8.28282828  8.38383838\n",
      "  8.48484848  8.58585859  8.68686869  8.78787879  8.88888889  8.98989899\n",
      "  9.09090909  9.19191919  9.29292929  9.39393939  9.49494949  9.5959596\n",
      "  9.6969697   9.7979798   9.8989899  10.        ]\n",
      "The code took 0.18 seconds to run\n",
      "fitted k:  3.131313131313131 fitted l:  6.4646464646464645 RMSE:  0.004351093225353771\n"
     ]
    },
    {
     "name": "stderr",
     "output_type": "stream",
     "text": [
      "C:\\Users\\jessr\\AppData\\Local\\Temp\\ipykernel_29332\\2283361506.py:3: RuntimeWarning: invalid value encountered in scalar divide\n",
      "  f =  ((k/c)*((x/c)**(k-1))) * np.exp(-((x/c)**k)) # Enter your code on this line #\n",
      "C:\\Users\\jessr\\AppData\\Local\\Temp\\ipykernel_29332\\2283361506.py:3: RuntimeWarning: divide by zero encountered in divide\n",
      "  f =  ((k/c)*((x/c)**(k-1))) * np.exp(-((x/c)**k)) # Enter your code on this line #\n",
      "C:\\Users\\jessr\\AppData\\Local\\Temp\\ipykernel_29332\\2283361506.py:3: RuntimeWarning: divide by zero encountered in scalar divide\n",
      "  f =  ((k/c)*((x/c)**(k-1))) * np.exp(-((x/c)**k)) # Enter your code on this line #\n",
      "C:\\Users\\jessr\\AppData\\Local\\Temp\\ipykernel_29332\\2283361506.py:3: RuntimeWarning: invalid value encountered in multiply\n",
      "  f =  ((k/c)*((x/c)**(k-1))) * np.exp(-((x/c)**k)) # Enter your code on this line #\n"
     ]
    }
   ],
   "source": [
    "import time\n",
    "\n",
    "n=100\n",
    "ks = np.linspace(0,10,n) # defines the values of k to test\n",
    "print(ks)\n",
    "cs = np.linspace(0,10,n) # defines the values of c to test\n",
    "\n",
    "# Setting intial values, leave unchanged\n",
    "kOpt = []\n",
    "cOpt = []\n",
    "PenaltyOpt = np.inf\n",
    "\n",
    "t1= time.perf_counter()\n",
    "# This code loops over all the k and c values defined above:\n",
    "for k in ks:\n",
    "    for c in cs:\n",
    "        ## Complete the code below to evaluate the weibullPDF for the k and c value (1 line)\n",
    "        modeledPDF = weibullPDF(windSpeedClass,k,c)\n",
    "        ## \n",
    "\n",
    "        ## omplete the code below to calculate the sum of squares beteen the modeledPDF and observedPDF (1 line)\n",
    "        Penalty = penaltyFunction(modeledPDF,observedPDF)\n",
    "        ## \n",
    "\n",
    "        # Compare the Penalty to Optimal Penalty found so far\n",
    "        # If the current penalty is smaller than the optimal Penalty, update kOpt, lOpt, PenaltyOpt to new values\n",
    "        # Update the 4 lines below\n",
    "        if (Penalty < PenaltyOpt):\n",
    "            kOpt = k\n",
    "            cOpt = c\n",
    "            PenaltyOpt = Penalty\n",
    "        # \n",
    "\n",
    "t2 = time.perf_counter()\n",
    "duration = t2-t1\n",
    "\n",
    "print(f'The code took {duration:.2f} seconds to run')\n",
    "print('fitted k: ', kOpt, 'fitted l: ', cOpt, 'RMSE: ', PenaltyOpt) \n"
   ]
  },
  {
   "cell_type": "markdown",
   "metadata": {},
   "source": [
    "### Evaluationg the model\n",
    "\n",
    "We can now investigate how well our model does by plotting things together. "
   ]
  },
  {
   "cell_type": "code",
   "execution_count": 39,
   "metadata": {},
   "outputs": [
    {
     "data": {
      "text/plain": [
       "Text(15, 0.16, 'l = 6.465')"
      ]
     },
     "execution_count": 39,
     "metadata": {},
     "output_type": "execute_result"
    },
    {
     "data": {
      "image/png": "[encoded data removed]",
      "text/plain": [
       "<Figure size 640x480 with 1 Axes>"
      ]
     },
     "metadata": {},
     "output_type": "display_data"
    }
   ],
   "source": [
    "plt.figure()\n",
    "ax = wind_speed['AWND'].hist(bins = 30, density = True)\n",
    "plt.plot(windSpeedClass,weibullPDF(windSpeedClass,kOpt,cOpt))\n",
    "plt.text(15,0.2,f'SOS ={PenaltyOpt:.3f}',fontsize = 12)\n",
    "plt.text(15,0.18,f'k = {kOpt:.3f}',fontsize = 12)\n",
    "plt.text(15,0.16,f'l = {cOpt:.3f}',fontsize=12)"
   ]
  },
  {
   "cell_type": "markdown",
   "metadata": {},
   "source": [
    "## Task 4: Evaluate Model Performance\n",
    "\n",
    "Change the value of the `n` parameter in the parameter fitting alogrithm. \n",
    "\n",
    "See what happens to the optimal parameters and the time it takes to run. \n",
    "\n",
    "\n",
    "**P.S.: Looping over all values is very inefficient. Numerical solvers, like `scipy.optimize()` will use different techniques. A common optimization algorithm used is [Gradient Descent](https://en.wikipedia.org/wiki/Gradient_descent), which avoids having to test all values.** "
   ]
  },
  {
   "cell_type": "markdown",
   "metadata": {},
   "source": [
    "## Super Task 5: Turn the optimization into a function\n",
    "\n",
    "You could turn the entire optimization loops above into a function and then use this function to investigate how the runtime and the optimized parameters change for different values of `n`. "
   ]
  },
  {
   "cell_type": "code",
   "execution_count": 40,
   "metadata": {},
   "outputs": [
    {
     "name": "stdout",
     "output_type": "stream",
     "text": [
      "[1.00000000e+01 2.78255940e+01 7.74263683e+01 2.15443469e+02\n",
      " 5.99484250e+02 1.66810054e+03 4.64158883e+03 1.29154967e+04\n",
      " 3.59381366e+04 1.00000000e+05]\n",
      "[10.0, 27.825594022071243, 77.4263682681127, 215.44346900318823, 599.4842503189409, 1668.100537200059, 4641.588833612777, 12915.496650148827, 35938.13663804626, 100000.0]\n"
     ]
    },
    {
     "ename": "",
     "evalue": "",
     "output_type": "error",
     "traceback": [
      "\u001b[1;31mThe Kernel crashed while executing code in the current cell or a previous cell. \n",
      "\u001b[1;31mPlease review the code in the cell(s) to identify a possible cause of the failure. \n",
      "\u001b[1;31mClick <a href='https://aka.ms/vscodeJupyterKernelCrash'>here</a> for more info. \n",
      "\u001b[1;31mView Jupyter <a href='command:jupyter.viewOutput'>log</a> for further details."
     ]
    }
   ],
   "source": [
    "# Here is a bit of code, that could help you when running your \n",
    "ns = np.logspace(1,5,10)\n",
    "print(ns)\n",
    "\n",
    "runtimes = []\n",
    "cOpts = []\n",
    "kOpts = []\n",
    "\n",
    "for n in ns:\n",
    "    \n",
    "    cOpts.append(n)\n",
    "    kOpts.append(n)\n",
    "    runtimes.append(n)\n",
    "\n",
    "print(runtimes)"
   ]
  }
 ],
 "metadata": {
  "kernelspec": {
   "display_name": "Python 3 (ipykernel)",
   "language": "python",
   "name": "python3"
  },
  "language_info": {
   "codemirror_mode": {
    "name": "ipython",
    "version": 3
   },
   "file_extension": ".py",
   "mimetype": "text/x-python",
   "name": "python",
   "nbconvert_exporter": "python",
   "pygments_lexer": "ipython3",
   "version": "3.11.5"
  }
 },
 "nbformat": 4,
 "nbformat_minor": 4
}
